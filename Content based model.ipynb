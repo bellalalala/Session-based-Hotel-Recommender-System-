{
 "cells": [
  {
   "cell_type": "code",
   "execution_count": 1,
   "metadata": {},
   "outputs": [],
   "source": [
    "import pandas as pd\n",
    "import numpy as np\n",
    "import statistics as st\n",
    "import matplotlib.pyplot as plt\n",
    "import seaborn as sns\n",
    "import math"
   ]
  },
  {
   "cell_type": "code",
   "execution_count": 2,
   "metadata": {},
   "outputs": [],
   "source": [
    "train_data = pd.read_csv(\"train.csv\")"
   ]
  },
  {
   "cell_type": "code",
   "execution_count": 3,
   "metadata": {},
   "outputs": [],
   "source": [
    "item_profile = pd.read_csv(\"item_metadata.csv\")"
   ]
  },
  {
   "cell_type": "code",
   "execution_count": 8,
   "metadata": {},
   "outputs": [],
   "source": [
    "#test_data = pd.read_csv(\"test.csv\")"
   ]
  },
  {
   "cell_type": "code",
   "execution_count": 4,
   "metadata": {},
   "outputs": [],
   "source": [
    "#Calculate the price of each hotel from the train_data\n",
    "price = train_data[['impressions', 'prices']].copy()\n",
    "price = price.dropna()\n",
    "\n",
    "hotel_id_list = np.array(list(map(lambda x: np.array(x.split('|')),price['impressions'])))\n",
    "hotel_price_list = np.array(list(map(lambda x: np.array(x.split('|')),price['prices'])))\n",
    "\n",
    "hotel_dic = {}\n",
    "for i in range(len(hotel_id_list)):\n",
    "    for j in range(len(hotel_id_list[i])):\n",
    "        hotel_dic[hotel_id_list[i][j]] = []\n",
    "for i in range(len(hotel_id_list)):\n",
    "    for j in range(len(hotel_id_list[i])):\n",
    "        hotel_dic[hotel_id_list[i][j]].append(int(hotel_price_list[i][j]))\n",
    "        \n",
    "hotel_price_dic = dict.fromkeys(hotel_dic)\n",
    "for i in hotel_dic:\n",
    "    hotel_price_dic[i] = math.log(st.median(hotel_dic[i]))/10"
   ]
  },
  {
   "cell_type": "code",
   "execution_count": 5,
   "metadata": {},
   "outputs": [],
   "source": [
    "hotel_dic = {}\n",
    "for i in range(len(hotel_id_list)):\n",
    "    for j in range(len(hotel_id_list[i])):\n",
    "        hotel_dic[hotel_id_list[i][j]] = []\n",
    "for i in range(len(hotel_id_list)):\n",
    "    for j in range(len(hotel_id_list[i])):\n",
    "        hotel_dic[hotel_id_list[i][j]].append(int(hotel_price_list[i][j]))\n",
    "        \n",
    "hotel_price_dic = dict.fromkeys(hotel_dic)\n",
    "for i in hotel_dic:\n",
    "    hotel_price_dic[i] = math.log(st.median(hotel_dic[i]))/10"
   ]
  },
  {
   "cell_type": "code",
   "execution_count": 8,
   "metadata": {
    "collapsed": true
   },
   "outputs": [
    {
     "data": {
      "text/plain": [
       "<matplotlib.axes._subplots.AxesSubplot at 0x1c3eaf11780>"
      ]
     },
     "execution_count": 8,
     "metadata": {},
     "output_type": "execute_result"
    },
    {
     "data": {
      "image/png": "[encoded data removed]",
      "text/plain": [
       "<Figure size 432x288 with 1 Axes>"
      ]
     },
     "metadata": {
      "needs_background": "light"
     },
     "output_type": "display_data"
    }
   ],
   "source": [
    "#dis = list(hotel_price_dic.values())\n",
    "#sns.kdeplot(dis)"
   ]
  },
  {
   "cell_type": "code",
   "execution_count": 6,
   "metadata": {},
   "outputs": [
    {
     "name": "stdout",
     "output_type": "stream",
     "text": [
      "Maximum Value:  0.9210240366975849\n",
      "Minimum Value:  0.16094379124341002\n",
      "Median Value:  0.43567088266895915\n"
     ]
    }
   ],
   "source": [
    "key_max = max(hotel_price_dic.keys(), key=(lambda k: hotel_price_dic[k]))\n",
    "key_min = min(hotel_price_dic.keys(), key=(lambda k: hotel_price_dic[k]))\n",
    "key_median = st.median(hotel_price_dic.values())\n",
    "print('Maximum Value: ',hotel_price_dic[key_max])\n",
    "print('Minimum Value: ',hotel_price_dic[key_min])\n",
    "print('Median Value: ',key_median)"
   ]
  },
  {
   "cell_type": "code",
   "execution_count": 7,
   "metadata": {},
   "outputs": [],
   "source": [
    "#list all the properties---features for item profile\n",
    "p_list = item_profile['properties'].str.split(\"|\")\n",
    "property_list = []\n",
    "for i in range(len(p_list)):\n",
    "    property_list += p_list[i]\n",
    "property_list = list(set(property_list))\n",
    "property_dict= dict.fromkeys(property_list)\n",
    "for i in range(len(property_list)):\n",
    "    property_dict[property_list[i]]=i"
   ]
  },
  {
   "cell_type": "code",
   "execution_count": 8,
   "metadata": {},
   "outputs": [],
   "source": [
    "#create item profile\n",
    "#rows are hotels in the same order as raw meta data\n",
    "#columns are features in the same order as property_dictionary\n",
    "#the last column is the normalized price, missing value imputed as median of the total\n",
    "item_pfile = np.zeros((len(item_profile),len(property_dict)+1))\n",
    "for i in range(len(p_list)):\n",
    "    for j in p_list[i]:\n",
    "        item_pfile[i][property_dict[j]] = 1\n",
    "    if str(item_profile['item_id'][i]) in hotel_price_dic:\n",
    "        item_pfile[i][len(property_dict)] = hotel_price_dic[str(item_profile['item_id'][i])]\n",
    "    else:\n",
    "        item_pfile[i][len(property_dict)] = key_median"
   ]
  },
  {
   "cell_type": "code",
   "execution_count": 41,
   "metadata": {},
   "outputs": [],
   "source": [
    "#item dictionary key:hotel id; value hotel index\n",
    "hotel_dict = {}\n",
    "for i in range(len(item_profile)):\n",
    "    hotel_dict[item_profile['item_id'][i]]=i"
   ]
  },
  {
   "cell_type": "code",
   "execution_count": 43,
   "metadata": {},
   "outputs": [
    {
     "data": {
      "text/plain": [
       "array([[0.        , 0.        , 0.        , ..., 1.        , 0.        ,\n",
       "        0.47184989],\n",
       "       [0.        , 0.        , 1.        , ..., 0.        , 1.        ,\n",
       "        0.45643482],\n",
       "       [1.        , 0.        , 0.        , ..., 0.        , 1.        ,\n",
       "        0.43174881],\n",
       "       ...,\n",
       "       [0.        , 0.        , 0.        , ..., 0.        , 0.        ,\n",
       "        0.3988984 ],\n",
       "       [0.        , 0.        , 0.        , ..., 0.        , 0.        ,\n",
       "        0.43567088],\n",
       "       [0.        , 0.        , 0.        , ..., 0.        , 0.        ,\n",
       "        0.43567088]])"
      ]
     },
     "execution_count": 43,
     "metadata": {},
     "output_type": "execute_result"
    }
   ],
   "source": [
    "item_pfile"
   ]
  },
  {
   "cell_type": "code",
   "execution_count": 42,
   "metadata": {
    "scrolled": true
   },
   "outputs": [
    {
     "data": {
      "text/plain": [
       "{5101: 0,\n",
       " 5416: 1,\n",
       " 5834: 2,\n",
       " 5910: 3,\n",
       " 6066: 4,\n",
       " 6094: 5,\n",
       " 6288: 6,\n",
       " 6358: 7,\n",
       " 6456: 8,\n",
       " 6561: 9,\n",
       " 6659: 10,\n",
       " 6853: 11,\n",
       " 7362: 12,\n",
       " 7994: 13,\n",
       " 8476: 14,\n",
       " 8810: 15,\n",
       " 9716: 16,\n",
       " ...}"
      ]
     },
     "execution_count": 42,
     "metadata": {},
     "output_type": "execute_result"
    }
   ],
   "source": [
    "hotel_dict"
   ]
  },
  {
   "cell_type": "code",
   "execution_count": 12,
   "metadata": {},
   "outputs": [],
   "source": [
    "#process the test data\n",
    "from sklearn.model_selection import train_test_split\n",
    "df_split = train_data.groupby('session_id')['session_id'].nunique()\n",
    "df_train, df_test=train_test_split(df_split, test_size=0.2, random_state=24)"
   ]
  },
  {
   "cell_type": "code",
   "execution_count": 13,
   "metadata": {},
   "outputs": [],
   "source": [
    "test=pd.DataFrame(df_test.index)\n",
    "test_final=pd.merge(train_data, test, how='inner', on='session_id')"
   ]
  },
  {
   "cell_type": "code",
   "execution_count": 14,
   "metadata": {},
   "outputs": [],
   "source": [
    "#to select the items that have been clicked\n",
    "mask = test_final.loc[test_final['action_type'] == 'clickout item'].reset_index()"
   ]
  },
  {
   "cell_type": "code",
   "execution_count": 15,
   "metadata": {},
   "outputs": [
    {
     "name": "stderr",
     "output_type": "stream",
     "text": [
      "C:\\Users\\81468\\Anaconda3\\lib\\site-packages\\ipykernel_launcher.py:3: SettingWithCopyWarning: \n",
      "A value is trying to be set on a copy of a slice from a DataFrame.\n",
      "Try using .loc[row_indexer,col_indexer] = value instead\n",
      "\n",
      "See the caveats in the documentation: http://pandas.pydata.org/pandas-docs/stable/indexing.html#indexing-view-versus-copy\n",
      "  This is separate from the ipykernel package so we can avoid doing imports until\n"
     ]
    }
   ],
   "source": [
    "#remove the last row of each user session\n",
    "test_userprofile = mask[['user_id', 'session_id','reference','impressions']]\n",
    "test_userprofile['index'] = test_userprofile.index\n",
    "test_userprofile['max'] = test_userprofile.groupby(['user_id', 'session_id']).index.transform('max')\n",
    "test_userprofile['reference'] = test_userprofile['reference'].astype('int')"
   ]
  },
  {
   "cell_type": "code",
   "execution_count": 17,
   "metadata": {},
   "outputs": [
    {
     "data": {
      "text/html": [
       "<div>\n",
       "<style scoped>\n",
       "    .dataframe tbody tr th:only-of-type {\n",
       "        vertical-align: middle;\n",
       "    }\n",
       "\n",
       "    .dataframe tbody tr th {\n",
       "        vertical-align: top;\n",
       "    }\n",
       "\n",
       "    .dataframe thead th {\n",
       "        text-align: right;\n",
       "    }\n",
       "</style>\n",
       "<table border=\"1\" class=\"dataframe\">\n",
       "  <thead>\n",
       "    <tr style=\"text-align: right;\">\n",
       "      <th></th>\n",
       "      <th>user_id</th>\n",
       "      <th>session_id</th>\n",
       "      <th>reference</th>\n",
       "      <th>impressions</th>\n",
       "      <th>index</th>\n",
       "      <th>max</th>\n",
       "    </tr>\n",
       "  </thead>\n",
       "  <tbody>\n",
       "    <tr>\n",
       "      <th>0</th>\n",
       "      <td>00RL8Z82B2Z1</td>\n",
       "      <td>aff3928535f48</td>\n",
       "      <td>109038</td>\n",
       "      <td>3400638|1253714|3367857|5100540|1088584|666916...</td>\n",
       "      <td>0</td>\n",
       "      <td>1</td>\n",
       "    </tr>\n",
       "    <tr>\n",
       "      <th>1</th>\n",
       "      <td>00RL8Z82B2Z1</td>\n",
       "      <td>aff3928535f48</td>\n",
       "      <td>1257342</td>\n",
       "      <td>55109|129343|54824|2297972|109014|1257342|1031...</td>\n",
       "      <td>1</td>\n",
       "      <td>1</td>\n",
       "    </tr>\n",
       "    <tr>\n",
       "      <th>2</th>\n",
       "      <td>02SRUT1NQYH1</td>\n",
       "      <td>3599a6f709eab</td>\n",
       "      <td>2795374</td>\n",
       "      <td>2795374|5582964|1088390|2781070|1258068|127196...</td>\n",
       "      <td>2</td>\n",
       "      <td>2</td>\n",
       "    </tr>\n",
       "    <tr>\n",
       "      <th>3</th>\n",
       "      <td>03K8AXBL4BX2</td>\n",
       "      <td>ec139e10b9238</td>\n",
       "      <td>1032816</td>\n",
       "      <td>12693|46363|81657|18448|47687|152913|18417|927...</td>\n",
       "      <td>3</td>\n",
       "      <td>4</td>\n",
       "    </tr>\n",
       "    <tr>\n",
       "      <th>4</th>\n",
       "      <td>03K8AXBL4BX2</td>\n",
       "      <td>ec139e10b9238</td>\n",
       "      <td>1032816</td>\n",
       "      <td>12693|46363|81657|18448|47687|152913|18417|927...</td>\n",
       "      <td>4</td>\n",
       "      <td>4</td>\n",
       "    </tr>\n",
       "  </tbody>\n",
       "</table>\n",
       "</div>"
      ],
      "text/plain": [
       "        user_id     session_id reference  \\\n",
       "0  00RL8Z82B2Z1  aff3928535f48    109038   \n",
       "1  00RL8Z82B2Z1  aff3928535f48   1257342   \n",
       "2  02SRUT1NQYH1  3599a6f709eab   2795374   \n",
       "3  03K8AXBL4BX2  ec139e10b9238   1032816   \n",
       "4  03K8AXBL4BX2  ec139e10b9238   1032816   \n",
       "\n",
       "                                         impressions  index  max  \n",
       "0  3400638|1253714|3367857|5100540|1088584|666916...      0    1  \n",
       "1  55109|129343|54824|2297972|109014|1257342|1031...      1    1  \n",
       "2  2795374|5582964|1088390|2781070|1258068|127196...      2    2  \n",
       "3  12693|46363|81657|18448|47687|152913|18417|927...      3    4  \n",
       "4  12693|46363|81657|18448|47687|152913|18417|927...      4    4  "
      ]
     },
     "execution_count": 17,
     "metadata": {},
     "output_type": "execute_result"
    }
   ],
   "source": [
    "test_userprofile.head()"
   ]
  },
  {
   "cell_type": "code",
   "execution_count": 76,
   "metadata": {},
   "outputs": [],
   "source": [
    "true_click = test_userprofile[test_userprofile['index'] == test_userprofile['max']]\n",
    "test_used = test_userprofile[test_userprofile['index'] != test_userprofile['max']]"
   ]
  },
  {
   "cell_type": "code",
   "execution_count": 78,
   "metadata": {
    "collapsed": true
   },
   "outputs": [
    {
     "name": "stderr",
     "output_type": "stream",
     "text": [
      "C:\\Users\\81468\\Anaconda3\\lib\\site-packages\\ipykernel_launcher.py:1: SettingWithCopyWarning: \n",
      "A value is trying to be set on a copy of a slice from a DataFrame.\n",
      "Try using .loc[row_indexer,col_indexer] = value instead\n",
      "\n",
      "See the caveats in the documentation: http://pandas.pydata.org/pandas-docs/stable/indexing.html#indexing-view-versus-copy\n",
      "  \"\"\"Entry point for launching an IPython kernel.\n",
      "C:\\Users\\81468\\Anaconda3\\lib\\site-packages\\ipykernel_launcher.py:2: SettingWithCopyWarning: \n",
      "A value is trying to be set on a copy of a slice from a DataFrame.\n",
      "Try using .loc[row_indexer,col_indexer] = value instead\n",
      "\n",
      "See the caveats in the documentation: http://pandas.pydata.org/pandas-docs/stable/indexing.html#indexing-view-versus-copy\n",
      "  \n"
     ]
    }
   ],
   "source": [
    "test_used['weight'] = 1/(test_used['max']-test_used['index'])\n",
    "test_used['sum_w'] = test_used.groupby(['user_id','session_id'])['weight'].transform('sum')\n",
    "test_used['factor'] = test_used['weight']/test_used['sum_w']\n",
    "test_used['user_session'] = test_used['user_id']+'_'+test_used['session_id']"
   ]
  },
  {
   "cell_type": "code",
   "execution_count": 86,
   "metadata": {
    "scrolled": true
   },
   "outputs": [
    {
     "data": {
      "text/html": [
       "<div>\n",
       "<style scoped>\n",
       "    .dataframe tbody tr th:only-of-type {\n",
       "        vertical-align: middle;\n",
       "    }\n",
       "\n",
       "    .dataframe tbody tr th {\n",
       "        vertical-align: top;\n",
       "    }\n",
       "\n",
       "    .dataframe thead th {\n",
       "        text-align: right;\n",
       "    }\n",
       "</style>\n",
       "<table border=\"1\" class=\"dataframe\">\n",
       "  <thead>\n",
       "    <tr style=\"text-align: right;\">\n",
       "      <th></th>\n",
       "      <th>user_id</th>\n",
       "      <th>session_id</th>\n",
       "      <th>reference</th>\n",
       "      <th>impressions</th>\n",
       "      <th>index</th>\n",
       "      <th>max</th>\n",
       "      <th>weight</th>\n",
       "      <th>sum_w</th>\n",
       "      <th>factor</th>\n",
       "      <th>user_session</th>\n",
       "    </tr>\n",
       "  </thead>\n",
       "  <tbody>\n",
       "    <tr>\n",
       "      <th>26</th>\n",
       "      <td>29MC7779BSXT</td>\n",
       "      <td>574ab911584bb</td>\n",
       "      <td>4342016</td>\n",
       "      <td>4342016|150138|4345728|4454760|5708658|5874900...</td>\n",
       "      <td>26</td>\n",
       "      <td>27</td>\n",
       "      <td>1.000000</td>\n",
       "      <td>1.500000</td>\n",
       "      <td>0.666667</td>\n",
       "      <td>29MC7779BSXT_574ab911584bb</td>\n",
       "    </tr>\n",
       "  </tbody>\n",
       "</table>\n",
       "</div>"
      ],
      "text/plain": [
       "         user_id     session_id  reference  \\\n",
       "0   00RL8Z82B2Z1  aff3928535f48     109038   \n",
       "3   03K8AXBL4BX2  ec139e10b9238    1032816   \n",
       "5   06SZHKMYOOI8  4c6062d7cefe4    2557176   \n",
       "11  18ET932PUJ6V  59af211d26cdc     834471   \n",
       "12  18ET932PUJ6V  59af211d26cdc     500261   \n",
       "13  18ET932PUJ6V  59af211d26cdc    2188042   \n",
       "17  1KTPEDQB89UY  649458cf7bc3e    2679006   \n",
       "20  1PFOT2YWS146  862043530adde      78420   \n",
       "25  29MC7779BSXT  574ab911584bb    1475717   \n",
       "26  29MC7779BSXT  574ab911584bb    4342016   \n",
       "\n",
       "                                          impressions  index  max    weight  \\\n",
       "0   3400638|1253714|3367857|5100540|1088584|666916...      0    1  1.000000   \n",
       "3   12693|46363|81657|18448|47687|152913|18417|927...      3    4  1.000000   \n",
       "5   22953|22951|22947|22949|8774118|45527|82900|22...      5    6  1.000000   \n",
       "11  834471|2111820|693416|500261|977545|8393940|57...     11   14  0.333333   \n",
       "12  834471|2111820|693416|500261|977545|8393940|57...     12   14  0.500000   \n",
       "13  2111820|500261|2188042|834471|1173256|9317768|...     13   14  1.000000   \n",
       "17  4783716|134412|2677282|2635106|3371467|2266848...     17   18  1.000000   \n",
       "20  3816090|59049|942643|3152072|76950|6621092|604...     20   21  1.000000   \n",
       "25  4342016|150138|4345728|5874900|478121|3148916|...     25   27  0.500000   \n",
       "26  4342016|150138|4345728|4454760|5708658|5874900...     26   27  1.000000   \n",
       "\n",
       "       sum_w    factor                user_session  \n",
       "0   1.000000  1.000000  00RL8Z82B2Z1_aff3928535f48  \n",
       "3   1.000000  1.000000  03K8AXBL4BX2_ec139e10b9238  \n",
       "5   1.000000  1.000000  06SZHKMYOOI8_4c6062d7cefe4  \n",
       "11  1.833333  0.181818  18ET932PUJ6V_59af211d26cdc  \n",
       "12  1.833333  0.272727  18ET932PUJ6V_59af211d26cdc  \n",
       "13  1.833333  0.545455  18ET932PUJ6V_59af211d26cdc  \n",
       "17  1.000000  1.000000  1KTPEDQB89UY_649458cf7bc3e  \n",
       "20  1.000000  1.000000  1PFOT2YWS146_862043530adde  \n",
       "25  1.500000  0.333333  29MC7779BSXT_574ab911584bb  \n",
       "26  1.500000  0.666667  29MC7779BSXT_574ab911584bb  "
      ]
     },
     "execution_count": 86,
     "metadata": {},
     "output_type": "execute_result"
    }
   ],
   "source": [
    "test_used.head(10)"
   ]
  },
  {
   "cell_type": "code",
   "execution_count": 83,
   "metadata": {},
   "outputs": [],
   "source": [
    "user_session_pfile = {}\n",
    "for i in test_used.index:\n",
    "    if test_used['reference'][i] in hotel_dict:\n",
    "        j = hotel_dict[test_used['reference'][i]]\n",
    "        user_session_pfile[test_used['user_session'][i]] = []\n",
    "for i in test_used.index:\n",
    "    if test_used['reference'][i] in hotel_dict:\n",
    "        j = hotel_dict[test_used['reference'][i]]\n",
    "        user_session_pfile[test_used['user_session'][i]].append(test_used['factor'][i]*item_pfile[j])"
   ]
  },
  {
   "cell_type": "code",
   "execution_count": 93,
   "metadata": {},
   "outputs": [],
   "source": [
    "user_session_final = {}\n",
    "for i in user_session_pfile:\n",
    "    user_session_final[i] = sum(user_session_pfile[i])"
   ]
  },
  {
   "cell_type": "code",
   "execution_count": 96,
   "metadata": {},
   "outputs": [
    {
     "name": "stderr",
     "output_type": "stream",
     "text": [
      "C:\\Users\\81468\\Anaconda3\\lib\\site-packages\\ipykernel_launcher.py:1: SettingWithCopyWarning: \n",
      "A value is trying to be set on a copy of a slice from a DataFrame.\n",
      "Try using .loc[row_indexer,col_indexer] = value instead\n",
      "\n",
      "See the caveats in the documentation: http://pandas.pydata.org/pandas-docs/stable/indexing.html#indexing-view-versus-copy\n",
      "  \"\"\"Entry point for launching an IPython kernel.\n"
     ]
    }
   ],
   "source": [
    "true_click['user_session'] = true_click['user_id']+'_'+true_click['session_id']"
   ]
  },
  {
   "cell_type": "code",
   "execution_count": 97,
   "metadata": {},
   "outputs": [
    {
     "data": {
      "text/html": [
       "<div>\n",
       "<style scoped>\n",
       "    .dataframe tbody tr th:only-of-type {\n",
       "        vertical-align: middle;\n",
       "    }\n",
       "\n",
       "    .dataframe tbody tr th {\n",
       "        vertical-align: top;\n",
       "    }\n",
       "\n",
       "    .dataframe thead th {\n",
       "        text-align: right;\n",
       "    }\n",
       "</style>\n",
       "<table border=\"1\" class=\"dataframe\">\n",
       "  <thead>\n",
       "    <tr style=\"text-align: right;\">\n",
       "      <th></th>\n",
       "      <th>user_id</th>\n",
       "      <th>session_id</th>\n",
       "      <th>reference</th>\n",
       "      <th>impressions</th>\n",
       "      <th>index</th>\n",
       "      <th>max</th>\n",
       "      <th>user_session</th>\n",
       "    </tr>\n",
       "  </thead>\n",
       "  <tbody>\n",
       "    <tr>\n",
       "      <th>1</th>\n",
       "      <td>00RL8Z82B2Z1</td>\n",
       "      <td>aff3928535f48</td>\n",
       "      <td>1257342</td>\n",
       "      <td>55109|129343|54824|2297972|109014|1257342|1031...</td>\n",
       "      <td>1</td>\n",
       "      <td>1</td>\n",
       "      <td>00RL8Z82B2Z1_aff3928535f48</td>\n",
       "    </tr>\n",
       "    <tr>\n",
       "      <th>2</th>\n",
       "      <td>02SRUT1NQYH1</td>\n",
       "      <td>3599a6f709eab</td>\n",
       "      <td>2795374</td>\n",
       "      <td>2795374|5582964|1088390|2781070|1258068|127196...</td>\n",
       "      <td>2</td>\n",
       "      <td>2</td>\n",
       "      <td>02SRUT1NQYH1_3599a6f709eab</td>\n",
       "    </tr>\n",
       "    <tr>\n",
       "      <th>4</th>\n",
       "      <td>03K8AXBL4BX2</td>\n",
       "      <td>ec139e10b9238</td>\n",
       "      <td>1032816</td>\n",
       "      <td>12693|46363|81657|18448|47687|152913|18417|927...</td>\n",
       "      <td>4</td>\n",
       "      <td>4</td>\n",
       "      <td>03K8AXBL4BX2_ec139e10b9238</td>\n",
       "    </tr>\n",
       "    <tr>\n",
       "      <th>6</th>\n",
       "      <td>06SZHKMYOOI8</td>\n",
       "      <td>4c6062d7cefe4</td>\n",
       "      <td>138930</td>\n",
       "      <td>22953|22951|22947|22949|8774118|45527|82900|22...</td>\n",
       "      <td>6</td>\n",
       "      <td>6</td>\n",
       "      <td>06SZHKMYOOI8_4c6062d7cefe4</td>\n",
       "    </tr>\n",
       "    <tr>\n",
       "      <th>7</th>\n",
       "      <td>098CQXLJZ868</td>\n",
       "      <td>489f31ee6fca9</td>\n",
       "      <td>129881</td>\n",
       "      <td>129881|36161|36249|464421|302607|36401|302622|...</td>\n",
       "      <td>7</td>\n",
       "      <td>7</td>\n",
       "      <td>098CQXLJZ868_489f31ee6fca9</td>\n",
       "    </tr>\n",
       "  </tbody>\n",
       "</table>\n",
       "</div>"
      ],
      "text/plain": [
       "        user_id     session_id  reference  \\\n",
       "1  00RL8Z82B2Z1  aff3928535f48    1257342   \n",
       "2  02SRUT1NQYH1  3599a6f709eab    2795374   \n",
       "4  03K8AXBL4BX2  ec139e10b9238    1032816   \n",
       "6  06SZHKMYOOI8  4c6062d7cefe4     138930   \n",
       "7  098CQXLJZ868  489f31ee6fca9     129881   \n",
       "\n",
       "                                         impressions  index  max  \\\n",
       "1  55109|129343|54824|2297972|109014|1257342|1031...      1    1   \n",
       "2  2795374|5582964|1088390|2781070|1258068|127196...      2    2   \n",
       "4  12693|46363|81657|18448|47687|152913|18417|927...      4    4   \n",
       "6  22953|22951|22947|22949|8774118|45527|82900|22...      6    6   \n",
       "7  129881|36161|36249|464421|302607|36401|302622|...      7    7   \n",
       "\n",
       "                 user_session  \n",
       "1  00RL8Z82B2Z1_aff3928535f48  \n",
       "2  02SRUT1NQYH1_3599a6f709eab  \n",
       "4  03K8AXBL4BX2_ec139e10b9238  \n",
       "6  06SZHKMYOOI8_4c6062d7cefe4  \n",
       "7  098CQXLJZ868_489f31ee6fca9  "
      ]
     },
     "execution_count": 97,
     "metadata": {},
     "output_type": "execute_result"
    }
   ],
   "source": [
    "true_click.head()"
   ]
  },
  {
   "cell_type": "code",
   "execution_count": 105,
   "metadata": {},
   "outputs": [],
   "source": [
    "user_session_fit = {}\n",
    "for i in true_click.index:\n",
    "    user_session_fit[true_click['user_session'][i]] = list(map(int, true_click['impressions'][i].split('|')))"
   ]
  },
  {
   "cell_type": "code",
   "execution_count": 107,
   "metadata": {},
   "outputs": [],
   "source": [
    "from sklearn.metrics.pairwise import cosine_similarity"
   ]
  },
  {
   "cell_type": "code",
   "execution_count": 129,
   "metadata": {},
   "outputs": [],
   "source": [
    "user_session_fit_2 = {}\n",
    "for i in user_session_fit:\n",
    "    if i in user_session_final:\n",
    "        user_session_fit_2[i] = {}\n",
    "        for j in range(len(user_session_fit[i])):\n",
    "            t = user_session_fit[i][j]\n",
    "            if t in hotel_dict:\n",
    "                user_session_fit_2[i][user_session_fit[i][j]] = float(cosine_similarity(user_session_final[i].reshape(1,-1), item_pfile[hotel_dict[t]].reshape(1,-1)))"
   ]
  },
  {
   "cell_type": "code",
   "execution_count": 131,
   "metadata": {},
   "outputs": [],
   "source": [
    "import heapq"
   ]
  },
  {
   "cell_type": "code",
   "execution_count": 133,
   "metadata": {},
   "outputs": [],
   "source": [
    "import heapq\n",
    "rec = dict.fromkeys(user_session_fit_2)\n",
    "for i in user_session_fit_2:\n",
    "    if len(user_session_fit_2) >=20:\n",
    "        rec[i] = heapq.nlargest(20,user_session_fit_2[i])\n",
    "    else:\n",
    "        rec[i] = heapq.nlargest(len(user_session_fit_2),user_session_fit_2[i])"
   ]
  },
  {
   "cell_type": "code",
   "execution_count": 134,
   "metadata": {
    "collapsed": true
   },
   "outputs": [
    {
     "data": {
      "text/plain": [
       "{'00RL8Z82B2Z1_aff3928535f48': [10077318,\n",
       "  9132132,\n",
       "  8444418,\n",
       "  6622154,\n",
       "  3909420,\n",
       "  2297972,\n",
       "  2237222,\n",
       "  2050977,\n",
       "  1474297,\n",
       "  1332971,\n",
       "  1257342,\n",
       "  1166793,\n",
       "  1031578,\n",
       "  666936,\n",
       "  666916,\n",
       "  129343,\n",
       "  109018,\n",
       "  109014,\n",
       "  55109,\n",
       "  55091],\n",
       " '03K8AXBL4BX2_ec139e10b9238': [4147572,\n",
       "  4043482,\n",
       "  1255377,\n",
       "  1216900,\n",
       "  1152188,\n",
       "  1032816,\n",
       "  927627,\n",
       "  819616,\n",
       "  152913,\n",
       "  106567,\n",
       "  106471,\n",
       "  98737,\n",
       "  84082,\n",
       "  81657,\n",
       "  47687,\n",
       "  47410,\n",
       "  47333,\n",
       "  46363,\n",
       "  18448,\n",
       "  18425],\n",
       " 'DPQP87FRBCJG_bb5014a7ac3eb': [3451806,\n",
       "  2124046,\n",
       "  1849665,\n",
       "  1371672,\n",
       "  1071502,\n",
       "  979779,\n",
       "  979757,\n",
       "  921687,\n",
       "  753866,\n",
       "  741521,\n",
       "  161527,\n",
       "  161285,\n",
       "  149956,\n",
       "  131194,\n",
       "  100504,\n",
       "  40867,\n",
       "  40840,\n",
       "  40680,\n",
       "  40638,\n",
       "  40500],\n",
       " ...}"
      ]
     },
     "execution_count": 134,
     "metadata": {},
     "output_type": "execute_result"
    }
   ],
   "source": [
    "rec"
   ]
  },
  {
   "cell_type": "code",
   "execution_count": 152,
   "metadata": {},
   "outputs": [],
   "source": [
    "true_response = dict(zip(true_click['user_session'], true_click['reference']))"
   ]
  },
  {
   "cell_type": "code",
   "execution_count": 154,
   "metadata": {},
   "outputs": [],
   "source": [
    "reciprocal = dict.fromkeys(rec)\n",
    "for i in reciprocal:\n",
    "    if true_response[i] in rec[i]:\n",
    "        reciprocal[i] = 1/(rec[i].index(true_response[i])+1)\n",
    "    else:\n",
    "        reciprocal[i] = 0"
   ]
  },
  {
   "cell_type": "code",
   "execution_count": 155,
   "metadata": {},
   "outputs": [],
   "source": [
    "import statistics"
   ]
  },
  {
   "cell_type": "code",
   "execution_count": 158,
   "metadata": {},
   "outputs": [
    {
     "data": {
      "text/plain": [
       "0.15274652122977297"
      ]
     },
     "execution_count": 158,
     "metadata": {},
     "output_type": "execute_result"
    }
   ],
   "source": [
    "statistics.mean(reciprocal.values())"
   ]
  },
  {
   "cell_type": "code",
   "execution_count": null,
   "metadata": {},
   "outputs": [],
   "source": []
  }
 ],
 "metadata": {
  "kernelspec": {
   "display_name": "Python 3",
   "language": "python",
   "name": "python3"
  },
  "language_info": {
   "codemirror_mode": {
    "name": "ipython",
    "version": 3
   },
   "file_extension": ".py",
   "mimetype": "text/x-python",
   "name": "python",
   "nbconvert_exporter": "python",
   "pygments_lexer": "ipython3",
   "version": "3.7.2"
  }
 },
 "nbformat": 4,
 "nbformat_minor": 2
}
